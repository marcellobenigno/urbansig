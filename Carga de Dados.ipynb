{
 "cells": [
  {
   "cell_type": "code",
   "execution_count": null,
   "id": "d6198126",
   "metadata": {},
   "outputs": [],
   "source": [
    "import os\n",
    "import random\n",
    "import geopandas as gpd\n",
    "os.environ[\"DJANGO_ALLOW_ASYNC_UNSAFE\"] = \"true\"\n",
    "\n",
    "from django.contrib.gis.geos import GEOSGeometry"
   ]
  },
  {
   "cell_type": "code",
   "execution_count": null,
   "id": "1b501387",
   "metadata": {},
   "outputs": [],
   "source": [
    "geopackage = '/Users/marcellodebarrosfilho/code/geopackage/cassilandia.gpkg'"
   ]
  },
  {
   "cell_type": "code",
   "execution_count": null,
   "id": "a5024866",
   "metadata": {},
   "outputs": [],
   "source": [
    "setor_gdf = gpd.read_file(geopackage, layer='setores')"
   ]
  },
  {
   "cell_type": "code",
   "execution_count": null,
   "id": "00e11af1",
   "metadata": {},
   "outputs": [],
   "source": [
    "quadra_gdf = gpd.read_file(geopackage, layer='quadras')"
   ]
  },
  {
   "cell_type": "code",
   "execution_count": null,
   "id": "abe2fa69",
   "metadata": {},
   "outputs": [],
   "source": [
    "lote_gdf = gpd.read_file(geopackage, layer='lotes')"
   ]
  },
  {
   "cell_type": "code",
   "execution_count": null,
   "id": "c0f91e96",
   "metadata": {},
   "outputs": [],
   "source": [
    "lote_gdf = lote_gdf.fillna('não informado')"
   ]
  },
  {
   "cell_type": "code",
   "execution_count": null,
   "id": "26f2a33a",
   "metadata": {},
   "outputs": [],
   "source": [
    "data = []\n",
    "for idx, row in setor_gdf.iterrows():\n",
    "    setor = Setor()\n",
    "    setor.num_setor = row['setor']\n",
    "    setor.geom = GEOSGeometry(f\"{row['geometry']}\")\n",
    "    data.append(setor)"
   ]
  },
  {
   "cell_type": "code",
   "execution_count": null,
   "id": "f8ecb9c4",
   "metadata": {},
   "outputs": [],
   "source": [
    "Setor.objects.bulk_create(data)"
   ]
  },
  {
   "cell_type": "code",
   "execution_count": null,
   "id": "0213e4dd",
   "metadata": {},
   "outputs": [],
   "source": [
    "data = []\n",
    "for idx, row in quadra_gdf.iterrows():\n",
    "    quadra = Quadra()\n",
    "    quadra.num_quadra = row['quadra']\n",
    "    quadra.geom = GEOSGeometry(f\"{row['geometry']}\")\n",
    "    setor = Setor.objects.filter(geom__contains=quadra.geom.point_on_surface).first()\n",
    "    quadra.setor = setor\n",
    "    data.append(quadra)"
   ]
  },
  {
   "cell_type": "code",
   "execution_count": null,
   "id": "7a15bd10",
   "metadata": {},
   "outputs": [],
   "source": [
    "Quadra.objects.bulk_create(data)"
   ]
  },
  {
   "cell_type": "code",
   "execution_count": null,
   "id": "9382d24e",
   "metadata": {},
   "outputs": [],
   "source": [
    "SITUACAO_CHOICES = (\n",
    "    ('a-ser-atendido', 'A ser atendido'),\n",
    "    ('lote-cadastrado', 'Lote cadastrado'),\n",
    "    ('lote-titulado', 'Lote titulado'),\n",
    ")"
   ]
  },
  {
   "cell_type": "code",
   "execution_count": null,
   "id": "c5524c93",
   "metadata": {},
   "outputs": [],
   "source": [
    "data = []\n",
    "for idx, row in lote_gdf.iterrows():\n",
    "    lote = Lote()\n",
    "    lote.num_lote = row['lote']\n",
    "    lote.geom = GEOSGeometry(f\"{row['geometry']}\")\n",
    "    lote.situacao = random.choice(SITUACAO_CHOICES)[0]\n",
    "    quadra = Quadra.objects.filter(geom__contains=lote.geom.point_on_surface).first()\n",
    "    lote.quadra = quadra\n",
    "    data.append(lote)"
   ]
  },
  {
   "cell_type": "code",
   "execution_count": null,
   "id": "ff60a0ba",
   "metadata": {},
   "outputs": [],
   "source": [
    "Lote.objects.bulk_create(data)"
   ]
  },
  {
   "cell_type": "code",
   "execution_count": null,
   "id": "fe65eda7",
   "metadata": {},
   "outputs": [],
   "source": []
  }
 ],
 "metadata": {
  "kernelspec": {
   "display_name": "Django Shell-Plus",
   "language": "python",
   "name": "django_extensions"
  },
  "language_info": {
   "codemirror_mode": {
    "name": "ipython",
    "version": 3
   },
   "file_extension": ".py",
   "mimetype": "text/x-python",
   "name": "python",
   "nbconvert_exporter": "python",
   "pygments_lexer": "ipython3",
   "version": "3.10.0"
  }
 },
 "nbformat": 4,
 "nbformat_minor": 5
}
